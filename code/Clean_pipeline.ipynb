{
 "cells": [
  {
   "cell_type": "markdown",
   "id": "f0146b9f",
   "metadata": {},
   "source": [
    "### Importing packages"
   ]
  },
  {
   "cell_type": "code",
   "execution_count": 1,
   "id": "686c0463",
   "metadata": {},
   "outputs": [],
   "source": [
    "import os\n",
    "import numpy as np\n",
    "import pandas as pd\n",
    "from mpl_toolkits.mplot3d import Axes3D\n",
    "import matplotlib.pyplot as plt\n",
    "from matplotlib.ticker import MaxNLocator\n",
    "import pandas as pd\n",
    "import scipy.stats as sts \n",
    "from sklearn.decomposition import PCA\n",
    "from statsmodels.multivariate.cancorr import CanCorr\n",
    "\n",
    "from helpers import *\n",
    "import cca_helpers"
   ]
  },
  {
   "cell_type": "markdown",
   "id": "74b811db",
   "metadata": {},
   "source": [
    "### Loading Data"
   ]
  },
  {
   "cell_type": "code",
   "execution_count": 2,
   "id": "161a5f2d",
   "metadata": {},
   "outputs": [],
   "source": [
    "data_path = r\"C:\\Users\\alex.legariamacal\\Downloads\\fwcajalproject\"\n",
    "\n",
    "trial_inf = trial_info(data_path + r\"\\ab042_trial_data.csv\")\n",
    "neuron_inf = neuron_info(data_path + r\"\\ab042_cluster_spike_times_2.csv\")\n",
    "spike_array = np.load(data_path + r\"\\ab042_spikes_dense.npy\")"
   ]
  },
  {
   "cell_type": "code",
   "execution_count": 5,
   "id": "5e10c76b",
   "metadata": {},
   "outputs": [
    {
     "name": "stdout",
     "output_type": "stream",
     "text": [
      "Trial types: ['Auditory Hit', 'Auditory Miss', 'Whisker Hit', 'Whisker Miss', 'False Alarm', 'Correct Rejection']\n"
     ]
    }
   ],
   "source": [
    "print(f\"Trial types: {trial_inf.trial_types}\")"
   ]
  },
  {
   "cell_type": "code",
   "execution_count": 6,
   "id": "f6f5ef05",
   "metadata": {},
   "outputs": [],
   "source": [
    "trial_type = [\"Auditory Hit\"]\n",
    "area_1 = \"tjM1\"\n",
    "area_2 = \"DLS\"\n",
    "\n",
    "area1_spikes = filter_data(spike_array, trial_inf, neuron_inf, trial_type, [area_1, area_2])[trial_type[0]][area_1]\n",
    "area2_spikes = filter_data(spike_array, trial_inf, neuron_inf, trial_type, [area_1, area_2])[trial_type[0]][area_2]"
   ]
  },
  {
   "cell_type": "code",
   "execution_count": 8,
   "id": "f08157f4",
   "metadata": {},
   "outputs": [],
   "source": [
    "#Here we slice the array and we smooth\n",
    "\n",
    "pre_win = 10\n",
    "post_win = 100\n",
    "\n",
    "kernel_size = 5\n",
    "\n",
    "\n",
    "proc_area_1 = slice_array(area1_spikes, pre_win, post_win, smooth=True, smooth_kernel = kernel_size)\n",
    "proc_area_2 = slice_array(area2_spikes, pre_win, post_win, smooth=True, smooth_kernel = kernel_size)"
   ]
  },
  {
   "cell_type": "code",
   "execution_count": 9,
   "id": "50b42599",
   "metadata": {},
   "outputs": [
    {
     "name": "stdout",
     "output_type": "stream",
     "text": [
      "(166, 83, 110)\n",
      "(135, 83, 110)\n"
     ]
    }
   ],
   "source": [
    "print(proc_area_1.shape)\n",
    "print(proc_area_2.shape)"
   ]
  },
  {
   "cell_type": "code",
   "execution_count": 11,
   "id": "94a8caa8",
   "metadata": {},
   "outputs": [
    {
     "ename": "NameError",
     "evalue": "name 'split_reshape' is not defined",
     "output_type": "error",
     "traceback": [
      "\u001b[1;31m---------------------------------------------------------------------------\u001b[0m",
      "\u001b[1;31mNameError\u001b[0m                                 Traceback (most recent call last)",
      "Input \u001b[1;32mIn [11]\u001b[0m, in \u001b[0;36m<cell line: 1>\u001b[1;34m()\u001b[0m\n\u001b[1;32m----> 1\u001b[0m area1_tr, area1_te \u001b[38;5;241m=\u001b[39m \u001b[43msplit_reshape\u001b[49m(proc_area_1)\n\u001b[0;32m      2\u001b[0m area2_tr, area2_te \u001b[38;5;241m=\u001b[39m split_reshape(proc_area_1)\n",
      "\u001b[1;31mNameError\u001b[0m: name 'split_reshape' is not defined"
     ]
    }
   ],
   "source": [
    "area1_tr, area1_te = split_reshape(proc_area_1)\n",
    "area2_tr, area2_te = split_reshape(proc_area_1)"
   ]
  },
  {
   "cell_type": "code",
   "execution_count": null,
   "id": "ea7eb58f",
   "metadata": {},
   "outputs": [],
   "source": []
  }
 ],
 "metadata": {
  "kernelspec": {
   "display_name": "Python 3 (ipykernel)",
   "language": "python",
   "name": "python3"
  },
  "language_info": {
   "codemirror_mode": {
    "name": "ipython",
    "version": 3
   },
   "file_extension": ".py",
   "mimetype": "text/x-python",
   "name": "python",
   "nbconvert_exporter": "python",
   "pygments_lexer": "ipython3",
   "version": "3.9.12"
  }
 },
 "nbformat": 4,
 "nbformat_minor": 5
}
