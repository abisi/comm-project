{
 "cells": [
  {
   "cell_type": "markdown",
   "id": "f0146b9f",
   "metadata": {},
   "source": [
    "### Importing packages"
   ]
  },
  {
   "cell_type": "code",
   "execution_count": 1,
   "id": "686c0463",
   "metadata": {},
   "outputs": [],
   "source": [
    "import os\n",
    "import numpy as np\n",
    "import pandas as pd\n",
    "from mpl_toolkits.mplot3d import Axes3D\n",
    "import matplotlib.pyplot as plt\n",
    "from matplotlib.ticker import MaxNLocator\n",
    "import pandas as pd\n",
    "import scipy.stats as sts \n",
    "from sklearn.decomposition import PCA\n",
    "from statsmodels.multivariate.cancorr import CanCorr\n",
    "\n",
    "from helpers import *\n",
    "import cca_helpers"
   ]
  },
  {
   "cell_type": "markdown",
   "id": "74b811db",
   "metadata": {},
   "source": [
    "### Loading Data"
   ]
  },
  {
   "cell_type": "code",
   "execution_count": 2,
   "id": "161a5f2d",
   "metadata": {},
   "outputs": [],
   "source": [
    "data_path = r\"C:\\Users\\alex.legariamacal\\Downloads\\fwcajalproject\"\n",
    "\n",
    "trial_inf = trial_info(data_path + r\"\\ab042_trial_data.csv\")\n",
    "neuron_inf = neuron_info(data_path + r\"\\ab042_cluster_spike_times_2.csv\")\n",
    "spike_array = np.load(data_path + r\"\\ab042_spikes_dense.npy\")"
   ]
  },
  {
   "cell_type": "code",
   "execution_count": 3,
   "id": "5e10c76b",
   "metadata": {},
   "outputs": [
    {
     "name": "stdout",
     "output_type": "stream",
     "text": [
      "Trial types: ['Auditory Hit', 'Auditory Miss', 'Whisker Hit', 'Whisker Miss', 'False Alarm', 'Correct Rejection']\n"
     ]
    }
   ],
   "source": [
    "print(f\"Trial types: {trial_inf.trial_types}\")"
   ]
  },
  {
   "cell_type": "code",
   "execution_count": 4,
   "id": "f6f5ef05",
   "metadata": {},
   "outputs": [],
   "source": [
    "trial_type = [\"Auditory Hit\"]\n",
    "area_1 = \"tjM1\"\n",
    "area_2 = \"DLS\"\n",
    "\n",
    "area1_spikes = filter_data(spike_array, trial_inf, neuron_inf, trial_type, [area_1, area_2])[trial_type[0]][area_1]\n",
    "area2_spikes = filter_data(spike_array, trial_inf, neuron_inf, trial_type, [area_1, area_2])[trial_type[0]][area_2]"
   ]
  },
  {
   "cell_type": "code",
   "execution_count": 5,
   "id": "f08157f4",
   "metadata": {},
   "outputs": [],
   "source": [
    "#Here we slice the array and we smooth\n",
    "\n",
    "pre_win = 10\n",
    "post_win = 100\n",
    "\n",
    "kernel_size = 5\n",
    "\n",
    "\n",
    "proc_area_1 = slice_array(area1_spikes, pre_win, post_win, smooth=True, smooth_kernel = kernel_size)\n",
    "proc_area_2 = slice_array(area2_spikes, pre_win, post_win, smooth=True, smooth_kernel = kernel_size)"
   ]
  },
  {
   "cell_type": "code",
   "execution_count": 6,
   "id": "50b42599",
   "metadata": {},
   "outputs": [
    {
     "name": "stdout",
     "output_type": "stream",
     "text": [
      "(166, 83, 110)\n",
      "(135, 83, 110)\n"
     ]
    }
   ],
   "source": [
    "print(proc_area_1.shape)\n",
    "print(proc_area_2.shape)"
   ]
  },
  {
   "cell_type": "code",
   "execution_count": 7,
   "id": "94a8caa8",
   "metadata": {},
   "outputs": [],
   "source": [
    "area1_tr, area1_te = split_reshape(proc_area_1)\n",
    "area2_tr, area2_te = split_reshape(proc_area_1)"
   ]
  },
  {
   "cell_type": "code",
   "execution_count": 8,
   "id": "ea7eb58f",
   "metadata": {
    "scrolled": true
   },
   "outputs": [
    {
     "name": "stdout",
     "output_type": "stream",
     "text": [
      "Area1 train: (166, 4510), Area1 test: (166, 4510)\n",
      "Area2 train: (166, 4510), Area2 test: (166, 4510)\n"
     ]
    }
   ],
   "source": [
    "print(f\"Area1 train: {area1_tr.shape}, Area1 test: {area1_te.shape}\")\n",
    "print(f\"Area2 train: {area2_tr.shape}, Area2 test: {area2_te.shape}\")"
   ]
  },
  {
   "cell_type": "code",
   "execution_count": 9,
   "id": "06e25d14",
   "metadata": {},
   "outputs": [],
   "source": [
    "#Here we mean center the data\n",
    "\n",
    "X1_tr = area1_tr - area1_tr.mean(axis=1)[:,np.newaxis]\n",
    "X1_te = area1_te - area1_tr.mean(axis=1)[:,np.newaxis]\n",
    "X2_tr = area2_tr - area2_tr.mean(axis=1)[:,np.newaxis]\n",
    "X2_te = area2_te - area2_tr.mean(axis=1)[:,np.newaxis]"
   ]
  },
  {
   "cell_type": "markdown",
   "id": "ec7756d3",
   "metadata": {},
   "source": [
    "### Getting ready for CCA"
   ]
  },
  {
   "cell_type": "code",
   "execution_count": 14,
   "id": "55b6d0e0",
   "metadata": {},
   "outputs": [
    {
     "data": {
      "image/png": "[encoded data removed]",
      "text/plain": [
       "<Figure size 432x288 with 2 Axes>"
      ]
     },
     "metadata": {
      "needs_background": "light"
     },
     "output_type": "display_data"
    }
   ],
   "source": [
    "#Here we find the number of PCs that need to be kept\n",
    "\n",
    "pca1 = PCA()\n",
    "pca1.fit(X1_tr.T)\n",
    "\n",
    "pca2 = PCA()\n",
    "pca2.fit(X2_tr.T)\n",
    "\n",
    "fig, axs = plt.subplots(2,1)\n",
    "for ax in axs.flat:\n",
    "    ax.set_ylim(0,1.1)\n",
    "    ax.set_ylabel('Cumulative \\n explained variance')\n",
    "    ax.set_xlabel('Number of PCs')\n",
    "    \n",
    "axs[0].plot(np.cumsum(pca1.explained_variance_ratio_), marker=\"o\")\n",
    "axs[0].axvline(np.argmin(np.abs(np.cumsum(pca1.explained_variance_ratio_)-0.9)), linestyle=\"--\", c=\"red\")\n",
    "axs[1].plot(np.cumsum(pca2.explained_variance_ratio_), marker=\"o\")\n",
    "axs[1].axvline(np.argmin(np.abs(np.cumsum(pca2.explained_variance_ratio_)-0.9)), linestyle=\"--\", c=\"red\")\n",
    "\n",
    "keep_pcs = max(np.argmin(np.abs(np.cumsum(pca1.explained_variance_ratio_)-0.9)), \n",
    "               np.argmin(np.abs(np.cumsum(pca2.explained_variance_ratio_)-0.9)))\n"
   ]
  },
  {
   "cell_type": "code",
   "execution_count": 15,
   "id": "fe04fb47",
   "metadata": {},
   "outputs": [
    {
     "data": {
      "text/plain": [
       "48"
      ]
     },
     "execution_count": 15,
     "metadata": {},
     "output_type": "execute_result"
    }
   ],
   "source": []
  },
  {
   "cell_type": "code",
   "execution_count": null,
   "id": "71ffd9cb",
   "metadata": {},
   "outputs": [],
   "source": []
  }
 ],
 "metadata": {
  "kernelspec": {
   "display_name": "Python 3 (ipykernel)",
   "language": "python",
   "name": "python3"
  },
  "language_info": {
   "codemirror_mode": {
    "name": "ipython",
    "version": 3
   },
   "file_extension": ".py",
   "mimetype": "text/x-python",
   "name": "python",
   "nbconvert_exporter": "python",
   "pygments_lexer": "ipython3",
   "version": "3.9.12"
  }
 },
 "nbformat": 4,
 "nbformat_minor": 5
}
