{
 "cells": [
  {
   "cell_type": "markdown",
   "id": "f0146b9f",
   "metadata": {},
   "source": [
    "### Importing packages"
   ]
  },
  {
   "cell_type": "code",
   "execution_count": 1,
   "id": "686c0463",
   "metadata": {},
   "outputs": [],
   "source": [
    "import os\n",
    "import numpy as np\n",
    "import pandas as pd\n",
    "from mpl_toolkits.mplot3d import Axes3D\n",
    "import matplotlib.pyplot as plt\n",
    "from matplotlib.ticker import MaxNLocator\n",
    "import pandas as pd\n",
    "import scipy.stats as sts \n",
    "from sklearn.decomposition import PCA\n",
    "from statsmodels.multivariate.cancorr import CanCorr\n",
    "\n",
    "from helpers import *\n",
    "import cca_helpers"
   ]
  },
  {
   "cell_type": "markdown",
   "id": "74b811db",
   "metadata": {},
   "source": [
    "### Loading Data"
   ]
  },
  {
   "cell_type": "code",
   "execution_count": 2,
   "id": "161a5f2d",
   "metadata": {},
   "outputs": [],
   "source": [
    "data_path = r\"C:\\Users\\alex.legariamacal\\Downloads\\fwcajalproject\"\n",
    "\n",
    "data_path =  '../data/'\n",
    "\n",
    "trial_inf = trial_info(data_path + r\"ab042_trial_data.csv\")\n",
    "neuron_inf = neuron_info(data_path + r\"ab042_cluster_spike_times.csv\")\n",
    "spike_array = np.load(data_path + r\"ab042_spikes_dense.npy\")"
   ]
  },
  {
   "cell_type": "code",
   "execution_count": 3,
   "id": "1f66ab9b",
   "metadata": {},
   "outputs": [
    {
     "data": {
      "text/plain": [
       "array(['OFC', 'wM2', 'Thalamus', 'DS', 'wS1', 'nS1', 'DLS', 'tjM1'],\n",
       "      dtype=object)"
      ]
     },
     "execution_count": 3,
     "metadata": {},
     "output_type": "execute_result"
    }
   ],
   "source": [
    "neuron_inf.areas"
   ]
  },
  {
   "cell_type": "code",
   "execution_count": 4,
   "id": "5e10c76b",
   "metadata": {},
   "outputs": [
    {
     "name": "stdout",
     "output_type": "stream",
     "text": [
      "Trial types: ['Auditory Hit', 'Auditory Miss', 'Whisker Hit', 'Whisker Miss', 'False Alarm', 'Correct Rejection']\n",
      "Areas: ['OFC' 'wM2' 'Thalamus' 'DS' 'wS1' 'nS1' 'DLS' 'tjM1']\n"
     ]
    }
   ],
   "source": [
    "print(f\"Trial types: {trial_inf.trial_types}\")\n",
    "print(f\"Areas: {neuron_inf.areas}\")"
   ]
  },
  {
   "cell_type": "code",
   "execution_count": 5,
   "id": "f6f5ef05",
   "metadata": {},
   "outputs": [
    {
     "name": "stdout",
     "output_type": "stream",
     "text": [
      "(58, 512, 401) (58, 512, 401)\n"
     ]
    }
   ],
   "source": [
    "trial_type = [\"Whisker Hit\"]\n",
    "area_1 = \"wS1\"\n",
    "area_2 = \"wS1\"\n",
    "\n",
    "#area1_spikes = filter_data(spike_array, trial_inf, neuron_inf, trial_type, [area_1, area_2])[trial_type[0]][area_1]\n",
    "#area2_spikes = filter_data(spike_array, trial_inf, neuron_inf, trial_type, [area_1, area_2])[trial_type[0]][area_2]\n",
    "\n",
    "area1_spikes = []\n",
    "area2_spikes = []\n",
    "for trial_type in trial_inf.trial_types:\n",
    "    \n",
    "    trial_type = [trial_type]\n",
    "    #print(trial_type)\n",
    "    area1_spikes_t = filter_data(spike_array, trial_inf, neuron_inf, trial_type, [area_1, area_2])[trial_type[0]][area_1]\n",
    "    area2_spikes_t = filter_data(spike_array, trial_inf, neuron_inf, trial_type, [area_1, area_2])[trial_type[0]][area_2]\n",
    "    \n",
    "    #print(area1_spikes_t.shape)\n",
    "    #print(area1_spikes_t.shape, np.swapaxes(area1_spikes_t, 0,1).shape)\n",
    "    area1_spikes.extend(np.swapaxes(area1_spikes_t, 0,1))\n",
    "    area2_spikes.extend(np.swapaxes(area2_spikes_t, 0,1))\n",
    "\n",
    "area1_spikes = np.array(area1_spikes)\n",
    "area2_spikes = np.array(area2_spikes)\n",
    "\n",
    "area1_spikes = np.swapaxes(area1_spikes,0,1)\n",
    "area2_spikes = np.swapaxes(area2_spikes,0,1)\n",
    "print(area1_spikes.shape, area2_spikes.shape)\n"
   ]
  },
  {
   "cell_type": "code",
   "execution_count": 9,
   "id": "f08157f4",
   "metadata": {},
   "outputs": [],
   "source": [
    "#Here we slice the array and we smooth\n",
    "\n",
    "pre_win = 10\n",
    "post_win = 100\n",
    "\n",
    "kernel_size = 5\n",
    "\n",
    "\n",
    "proc_area_1 = slice_array(area1_spikes, pre_win, post_win, smooth=True, smooth_kernel = kernel_size)\n",
    "proc_area_2 = slice_array(area2_spikes, pre_win, post_win, smooth=True, smooth_kernel = kernel_size)"
   ]
  },
  {
   "cell_type": "code",
   "execution_count": 10,
   "id": "50b42599",
   "metadata": {},
   "outputs": [
    {
     "name": "stdout",
     "output_type": "stream",
     "text": [
      "(58, 512, 110)\n",
      "(58, 512, 110)\n"
     ]
    }
   ],
   "source": [
    "print(proc_area_1.shape)\n",
    "print(proc_area_2.shape)"
   ]
  },
  {
   "cell_type": "code",
   "execution_count": 13,
   "id": "866d85d7",
   "metadata": {},
   "outputs": [
    {
     "name": "stdout",
     "output_type": "stream",
     "text": [
      "256\n"
     ]
    }
   ],
   "source": [
    "area1_tr, area1_te, idx_tr, idx_te = split_reshape(proc_area_1)\n",
    "area2_tr, area2_te, idx_tr, idx_te = split_reshape(proc_area_1)\n",
    "\n",
    "n_trials = int(proc_area_1.shape[1]//2)\n",
    "print(n_trials)"
   ]
  },
  {
   "cell_type": "code",
   "execution_count": 14,
   "id": "ea7eb58f",
   "metadata": {
    "scrolled": true
   },
   "outputs": [
    {
     "name": "stdout",
     "output_type": "stream",
     "text": [
      "Area1 train: (58, 28160), Area1 test: (58, 28160)\n",
      "Area2 train: (58, 28160), Area2 test: (58, 28160)\n"
     ]
    }
   ],
   "source": [
    "print(f\"Area1 train: {area1_tr.shape}, Area1 test: {area1_te.shape}\")\n",
    "print(f\"Area2 train: {area2_tr.shape}, Area2 test: {area2_te.shape}\")"
   ]
  },
  {
   "cell_type": "code",
   "execution_count": 15,
   "id": "06e25d14",
   "metadata": {},
   "outputs": [],
   "source": [
    "#Here we mean center the data\n",
    "\n",
    "X1_tr = area1_tr - area1_tr.mean(axis=1)[:,np.newaxis]\n",
    "X1_te = area1_te - area1_tr.mean(axis=1)[:,np.newaxis]\n",
    "X2_tr = area2_tr - area2_tr.mean(axis=1)[:,np.newaxis]\n",
    "X2_te = area2_te - area2_tr.mean(axis=1)[:,np.newaxis]"
   ]
  },
  {
   "cell_type": "markdown",
   "id": "ec7756d3",
   "metadata": {},
   "source": [
    "### Getting ready for CCA"
   ]
  },
  {
   "cell_type": "code",
   "execution_count": 16,
   "id": "55b6d0e0",
   "metadata": {},
   "outputs": [
    {
     "data": {
      "image/png": "[encoded data removed]",
      "text/plain": [
       "<Figure size 640x480 with 2 Axes>"
      ]
     },
     "metadata": {},
     "output_type": "display_data"
    }
   ],
   "source": [
    "#Here we find the number of PCs that need to be kept\n",
    "\n",
    "pca1 = PCA()\n",
    "pca1.fit(X1_tr.T)\n",
    "P_1_te = pca1.transform(X1_te.T)\n",
    "\n",
    "pca2 = PCA()\n",
    "pca2.fit(X2_tr.T)\n",
    "P_2_te = pca2.transform(X2_te.T)\n",
    "\n",
    "\n",
    "fig, axs = plt.subplots(2,1)\n",
    "for ax in axs.flat:\n",
    "    ax.set_ylim(0,1.1)\n",
    "    ax.set_ylabel('Cumulative \\n explained variance')\n",
    "    ax.set_xlabel('Number of PCs')\n",
    "    \n",
    "axs[0].plot(np.cumsum(pca1.explained_variance_ratio_), marker=\"o\")\n",
    "axs[0].axvline(np.argmin(np.abs(np.cumsum(pca1.explained_variance_ratio_)-0.9)), linestyle=\"--\", c=\"red\")\n",
    "axs[1].plot(np.cumsum(pca2.explained_variance_ratio_), marker=\"o\")\n",
    "axs[1].axvline(np.argmin(np.abs(np.cumsum(pca2.explained_variance_ratio_)-0.9)), linestyle=\"--\", c=\"red\")\n",
    "\n",
    "c = max(np.argmin(np.abs(np.cumsum(pca1.explained_variance_ratio_)-0.9)), \n",
    "               np.argmin(np.abs(np.cumsum(pca2.explained_variance_ratio_)-0.9)))\n"
   ]
  },
  {
   "cell_type": "markdown",
   "id": "bb53be40",
   "metadata": {},
   "source": [
    "### CCA"
   ]
  },
  {
   "cell_type": "code",
   "execution_count": 29,
   "id": "fe04fb47",
   "metadata": {},
   "outputs": [],
   "source": [
    "\n",
    "print('Input:', X1_tr.T.shape, X2_tr.T.shape)\n",
    "axes_area_1, axes_area_2, A_1_tr, A_2_tr, cc = cca_helpers.align(X1_tr.T, X2_tr.T, m=c, cv=False)\n",
    "cc = np.asarray(cc)\n",
    "#print(axes_area_1.shape, axes_area_2.shape, A_1.shape, A_2.shape, cc.shape)\n",
    "\n",
    "A_1_te = X1_te.T @ axes_area_1\n",
    "A_2_te = X2_te.T @ axes_area_2\n",
    "\n",
    "print('Output train', A_1_tr.shape, A_2_tr.shape)\n",
    "print('Output test', A_1_te.shape, A_2_te.shape)\n",
    "\n",
    "fig, ax = plt.subplots(1,1)\n",
    "remove_top_right_frame(ax)\n",
    "\n",
    "ax.plot(cc, marker='o', c='k')\n",
    "ax.set_xlabel('Canonical axis')\n",
    "ax.set_ylabel('Canonical correlation')\n",
    "\n",
    "\n",
    "#A_1 = X_1.T @ axes_area_1\n",
    "#A_2 = X_2.T @ axes_area_2\n",
    "print('Post-align shapes:')\n",
    "print('Train', A_1_tr.shape, A_2_tr.shape)\n",
    "print('Test', A_1_te.shape, A_2_te.shape)\n",
    "\n",
    "A_1_trials = A_1_tr.reshape(n_trials, -1, A_1_tr.shape[1])\n",
    "A_2_trials = A_2_tr.reshape(n_trials, -1, A_2_tr.shape[1])\n",
    "\n",
    "print('Post-align reshape:')\n",
    "print(A_1_trials.shape, A_2_trials.shape)\n",
    "\n",
    "fig, axs = plt.subplots(1,3, figsize=(10,3), sharex=False, sharey=False)\n",
    "for cc_dim in range(3):\n",
    "    axs[cc_dim].set_title('CC dim. {}'.format(cc_dim))\n",
    "    axs[cc_dim].plot(np.mean(A_1_trials, axis=0)[:,cc_dim])\n",
    "    axs[cc_dim].plot(np.mean(A_2_trials, axis=0)[:,cc_dim])\n",
    "plt.tight_layout()"
   ]
  },
  {
   "cell_type": "markdown",
   "id": "a159a2a8",
   "metadata": {},
   "source": [
    "### Compare trial-averaged trajectories between areas\n",
    "- Comparing PCA (unaligned axes) and CCA (aligned axes)"
   ]
  },
  {
   "cell_type": "code",
   "execution_count": 30,
   "id": "a2fede94",
   "metadata": {},
   "outputs": [],
   "source": [
    "P_1_trials = P_1_te.reshape(n_trials, -1, P_1_te.shape[1])\n",
    "P_2_trials = P_2_te.reshape(n_trials, -1, P_2_te.shape[1])\n",
    "print(P_1_trials.shape)\n",
    "\n",
    "P_1_trials_mean = np.mean(P_1_trials,axis=0)\n",
    "P_2_trials_mean = np.mean(P_2_trials,axis=0)\n",
    "print(P_1_trials_mean.shape)\n",
    "\n",
    "\n",
    "A_1_trials = A_1_te.reshape(n_trials, -1, A_1_te.shape[1])\n",
    "A_2_trials = A_2_te.reshape(n_trials, -1, A_2_te.shape[1])\n",
    "\n",
    "A_1_trials_mean = np.mean(A_1_trials,axis=0)\n",
    "A_2_trials_mean = np.mean(A_2_trials,axis=0)\n",
    "n_time_bins = A_1_trials_mean.shape[0]"
   ]
  },
  {
   "cell_type": "code",
   "execution_count": 32,
   "id": "2d9e46a5",
   "metadata": {},
   "outputs": [],
   "source": [
    "fig, axs = plt.subplots(1,2, figsize=(9,5), dpi=200, subplot_kw={'projection': '3d'})\n",
    "for ax in axs.flat:\n",
    "    ax.set_xlabel('Neural mode 1')\n",
    "    ax.set_ylabel('Neural mode 2')\n",
    "    ax.set_zlabel('Neural mode 3')\n",
    "    #ax.axis('off')\n",
    "    ax.tick_params(size=0, labelsize=0, which='both')\n",
    "    remove_top_right_frame(ax)\n",
    "    ax.view_init(elev=-150, azim=50)\n",
    "    \n",
    "\n",
    "axs[0].set_title('Unaligned PCs')\n",
    "\n",
    "from scipy.ndimage import gaussian_filter\n",
    "\n",
    "P_1_trials_mean_smooth = gaussian_filter(P_1_trials_mean, sigma=1, axes=(0))\n",
    "P_2_trials_mean_smooth = gaussian_filter(P_2_trials_mean, sigma=1, axes=(0))\n",
    "A_1_trials_mean_smooth = gaussian_filter(A_1_trials_mean, sigma=1, axes=(0))\n",
    "A_2_trials_mean_smooth = gaussian_filter(A_2_trials_mean, sigma=1, axes=(0))\n",
    "\n",
    "# Trajectories of trial-averages\n",
    "axs[0].plot(P_1_trials_mean_smooth[:,0], \n",
    "          P_1_trials_mean_smooth[:,1], \n",
    "          P_1_trials_mean_smooth[:,2],\n",
    "          color = get_area_color(area_1))\n",
    "\n",
    "\n",
    "# Starting points\n",
    "axs[0].plot(P_1_trials_mean_smooth[0,0], \n",
    "          P_1_trials_mean_smooth[0,1], \n",
    "          P_1_trials_mean_smooth[0,2],\n",
    "          color = get_area_color(area_1),\n",
    "          marker='*',\n",
    "          mec='k',\n",
    "          ms=20)\n",
    "\n",
    "\n",
    "axs[1].set_title('Aligned CDs')\n",
    "\n",
    "\n",
    "# Trajectories of trial-averages\n",
    "axs[1].plot(A_1_trials_mean_smooth[:,0], \n",
    "          A_1_trials_mean_smooth[:,1], \n",
    "          A_1_trials_mean_smooth[:,2],\n",
    "          color = get_area_color(area_1))\n",
    "\n",
    "# Starting points\n",
    "axs[1].plot(A_1_trials_mean_smooth[0,0], \n",
    "          A_1_trials_mean_smooth[0,1], \n",
    "          A_1_trials_mean_smooth[0,2],\n",
    "          color = get_area_color(area_1),\n",
    "          marker='*',\n",
    "          mec='k',\n",
    "          ms=20)\n",
    "\n",
    "fig.tight_layout()\n",
    "\n",
    "\n",
    "# Save figure\n",
    "figure_path =  '../figures/'\n",
    "elts = trial_type[0].split(' ')\n",
    "init1=elts[0][0].upper()\n",
    "init2=elts[1][0].upper()\n",
    "fname = 'pca_cca_{}_{}_{}{}_smooth'.format(area_1, area_2, init1, init2)\n",
    "#fig.savefig(os.path.join(figure_path,fname), format='figure')"
   ]
  },
  {
   "cell_type": "code",
   "execution_count": null,
   "id": "3d818f24",
   "metadata": {},
   "outputs": [],
   "source": []
  },
  {
   "cell_type": "code",
   "execution_count": null,
   "id": "264cb20d",
   "metadata": {},
   "outputs": [],
   "source": []
  }
 ],
 "metadata": {
  "kernelspec": {
   "display_name": "Python 3 (ipykernel)",
   "language": "python",
   "name": "python3"
  },
  "language_info": {
   "codemirror_mode": {
    "name": "ipython",
    "version": 3
   },
   "file_extension": ".py",
   "mimetype": "text/x-python",
   "name": "python",
   "nbconvert_exporter": "python",
   "pygments_lexer": "ipython3",
   "version": "3.11.4"
  }
 },
 "nbformat": 4,
 "nbformat_minor": 5
}
